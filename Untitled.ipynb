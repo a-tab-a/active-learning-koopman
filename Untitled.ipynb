{
 "cells": [
  {
   "cell_type": "code",
   "execution_count": 1,
   "metadata": {},
   "outputs": [],
   "source": [
    "import autograd.numpy as np\n",
    "from autograd import jacobian, grad\n",
    "from autograd.misc import flatten"
   ]
  },
  {
   "cell_type": "code",
   "execution_count": 2,
   "metadata": {},
   "outputs": [],
   "source": [
    "def f(x, u):\n",
    "    return x + 0.1*np.array(\n",
    "        [\n",
    "            -0.1*x[0],\n",
    "            1.0*(x[1]-x[0]**2) + u[0]\n",
    "        ]\n",
    "    )"
   ]
  },
  {
   "cell_type": "code",
   "execution_count": 3,
   "metadata": {},
   "outputs": [],
   "source": [
    "x_data = []\n",
    "u_data = []\n",
    "xdot_data = []\n",
    "for i in range(200):\n",
    "    u = np.random.normal(0.,1, size=(1,))\n",
    "    x = np.random.normal(0.,2,size=(2,))\n",
    "    xdot = f(x.copy(), u.copy())\n",
    "    u_data.append(u.copy())\n",
    "    x_data.append(x.copy())\n",
    "    xdot_data.append(xdot.copy())\n",
    "    "
   ]
  },
  {
   "cell_type": "code",
   "execution_count": 4,
   "metadata": {},
   "outputs": [],
   "source": [
    "xdot = np.stack(xdot_data)\n",
    "x = np.stack(x_data)\n",
    "u = np.stack(u_data)"
   ]
  },
  {
   "cell_type": "code",
   "execution_count": 5,
   "metadata": {},
   "outputs": [],
   "source": [
    "params = {\n",
    "    'theta' : np.random.uniform(-1*np.pi, 1*np.pi, size=(10, 10)),\n",
    "    'B' : np.random.uniform(-1., 1., size=(10,1)),\n",
    "    'lam' : np.random.uniform(-1., 1., size=(4,))\n",
    "}\n"
   ]
  },
  {
   "cell_type": "code",
   "execution_count": 6,
   "metadata": {},
   "outputs": [],
   "source": [
    "_fixed_theta = np.random.uniform(-2*np.pi, 2*np.pi, size=(10,2))\n",
    "def psi(x):\n",
    "    return np.sin(np.dot(_fixed_theta, x))\n",
    "\n",
    "def phi(_theta, x):\n",
    "    return np.dot(_theta, psi(x))\n",
    "\n",
    "dphi = jacobian(phi, argnum=1)\n",
    "    "
   ]
  },
  {
   "cell_type": "code",
   "execution_count": 7,
   "metadata": {},
   "outputs": [],
   "source": [
    "def obs(_params):\n",
    "    Lam = np.diag(_params['lam'])\n",
    "    _th = _params['theta']\n",
    "    B = _params['B']\n",
    "    val = 0.\n",
    "    for x, xdot, u in zip(x_data, xdot_data, u_data):\n",
    "        _psidot = phi(_th, x) + np.dot(B, u)\n",
    "        val = val + np.linalg.norm(phi(_th, xdot) - _psidot)\n",
    "    return val/len(x_data)"
   ]
  },
  {
   "cell_type": "code",
   "execution_count": 10,
   "metadata": {},
   "outputs": [],
   "source": [
    "flat_params, unflatten = flatten(params)\n",
    "dobs = grad(obs)"
   ]
  },
  {
   "cell_type": "code",
   "execution_count": 11,
   "metadata": {},
   "outputs": [
    {
     "name": "stdout",
     "output_type": "stream",
     "text": [
      "11.497662796939581\n",
      "10.946743797178685\n",
      "10.405182655230213\n",
      "9.87355893488751\n",
      "9.352483823079773\n",
      "8.842600334977\n",
      "8.344583990906072\n",
      "7.859144293682521\n",
      "7.38702742473518\n",
      "6.929021009841364\n"
     ]
    }
   ],
   "source": [
    "for i in range(1000):\n",
    "    dp = dobs(params)\n",
    "    for key in params.keys():\n",
    "        params[key] -= 1e-2 * dp[key]\n",
    "    if i % 100 == 0:\n",
    "        print(obs(params))"
   ]
  },
  {
   "cell_type": "code",
   "execution_count": 89,
   "metadata": {},
   "outputs": [],
   "source": [
    "import scipy\n",
    "import scipy.linalg"
   ]
  },
  {
   "cell_type": "code",
   "execution_count": 90,
   "metadata": {},
   "outputs": [],
   "source": [
    "A = params['theta']\n",
    "B = params['B']\n",
    "Q = np.eye(10)\n",
    "R = np.eye(1)"
   ]
  },
  {
   "cell_type": "code",
   "execution_count": 91,
   "metadata": {},
   "outputs": [],
   "source": [
    "P = scipy.linalg.solve_discrete_are(A, B, Q, R)\n",
    "K = np.linalg.inv(B.T.dot(P).dot(B) + R).dot(B.T.dot(P).dot(A))"
   ]
  },
  {
   "cell_type": "code",
   "execution_count": 92,
   "metadata": {},
   "outputs": [
    {
     "name": "stdout",
     "output_type": "stream",
     "text": [
      "[ 0.17902273 -1.02968547]\n",
      "[ 6.55281088e-02 -1.45580497e+04]\n",
      "[ 2.39854071e-02 -2.00618889e+08]\n",
      "[ 8.77943472e-03 -2.76465114e+12]\n",
      "[ 3.21355704e-03 -3.80985856e+16]\n",
      "[ 1.17626581e-03 -5.25021839e+20]\n",
      "[ 4.30551328e-04 -7.23512243e+24]\n",
      "[ 1.57595711e-04 -9.97044174e+28]\n",
      "[ 5.76851269e-05 -1.37398793e+33]\n",
      "[ 2.11146221e-05 -1.89343950e+37]\n",
      "[ 7.72863455e-06 -2.60927557e+41]\n",
      "[ 2.82893020e-06 -3.59574151e+45]\n",
      "[ 1.03547994e-06 -4.95515198e+49]\n",
      "[ 3.79019148e-07 -6.82850285e+53]\n",
      "[ 1.38733266e-07 -9.41009507e+57]\n",
      "[ 5.07808622e-08 -1.29676872e+62]\n",
      "[ 1.85874379e-08 -1.78702671e+66]\n",
      "[ 6.80360341e-09 -2.46263223e+70]\n",
      "[ 2.49033889e-09 -3.39365800e+74]\n",
      "[ 9.11544573e-10 -4.67666854e+78]\n"
     ]
    }
   ],
   "source": [
    "data = []\n",
    "x = np.random.uniform(-1,1,size=(2,))\n",
    "for t in range(2000):\n",
    "    data.append(x.copy())\n",
    "    _u = -np.dot(K, psi(x))\n",
    "    x = f(x, _u)\n",
    "    if t % 100 == 0:\n",
    "        print(x)"
   ]
  },
  {
   "cell_type": "code",
   "execution_count": 93,
   "metadata": {},
   "outputs": [],
   "source": [
    "import matplotlib.pyplot as plt"
   ]
  },
  {
   "cell_type": "code",
   "execution_count": 94,
   "metadata": {},
   "outputs": [],
   "source": [
    "data = np.stack(data)"
   ]
  },
  {
   "cell_type": "code",
   "execution_count": 95,
   "metadata": {},
   "outputs": [
    {
     "data": {
      "text/plain": [
       "[<matplotlib.lines.Line2D at 0x7ff218bb3828>,\n",
       " <matplotlib.lines.Line2D at 0x7ff218bb34e0>]"
      ]
     },
     "execution_count": 95,
     "metadata": {},
     "output_type": "execute_result"
    },
    {
     "data": {
      "image/png": "[encoded data removed]",
      "text/plain": [
       "<Figure size 432x288 with 1 Axes>"
      ]
     },
     "metadata": {
      "needs_background": "light"
     },
     "output_type": "display_data"
    }
   ],
   "source": [
    "plt.plot(data)"
   ]
  },
  {
   "cell_type": "code",
   "execution_count": 98,
   "metadata": {},
   "outputs": [
    {
     "data": {
      "text/plain": [
       "array([0., 0., 0., 0., 0., 0., 0., 0., 0., 0.])"
      ]
     },
     "execution_count": 98,
     "metadata": {},
     "output_type": "execute_result"
    }
   ],
   "source": [
    "np.dot(A, psi(x_data[0]*0.))"
   ]
  },
  {
   "cell_type": "code",
   "execution_count": null,
   "metadata": {},
   "outputs": [],
   "source": []
  }
 ],
 "metadata": {
  "kernelspec": {
   "display_name": "Python 3",
   "language": "python",
   "name": "python3"
  },
  "language_info": {
   "codemirror_mode": {
    "name": "ipython",
    "version": 3
   },
   "file_extension": ".py",
   "mimetype": "text/x-python",
   "name": "python",
   "nbconvert_exporter": "python",
   "pygments_lexer": "ipython3",
   "version": "3.6.9"
  }
 },
 "nbformat": 4,
 "nbformat_minor": 4
}
