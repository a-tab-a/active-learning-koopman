{
 "cells": [
  {
   "cell_type": "code",
   "execution_count": 1,
   "metadata": {},
   "outputs": [],
   "source": [
    "import numpy as np\n",
    "from stable_koopman_operator import StableKoopmanOperator\n",
    "from quad import Quad\n",
    "from task import Task, Adjoint\n",
    "\n",
    "import matplotlib.pyplot as plt\n",
    "import scipy.linalg\n",
    "from group_theory import VecTose3, TransToRp, RpToTrans\n",
    "from lqr import FiniteHorizonLQR\n",
    "from quatmath import euler2mat "
   ]
  },
  {
   "cell_type": "markdown",
   "metadata": {},
   "source": [
    "Helper Functions\n",
    "================"
   ]
  },
  {
   "cell_type": "code",
   "execution_count": 2,
   "metadata": {},
   "outputs": [],
   "source": [
    "def get_measurement(x):\n",
    "    g = x[0:16].reshape((4,4)) ## SE(3) matrix\n",
    "    R,p = TransToRp(g)\n",
    "    twist = x[16:]\n",
    "    grot = np.dot(R, [0., 0., -9.81]) ## gravity vec rel to body frame\n",
    "    return np.concatenate((grot, twist)) \n",
    "\n",
    "def get_position(x):\n",
    "    g = x[0:16].reshape((4,4))\n",
    "    R,p = TransToRp(g)\n",
    "    return p\n"
   ]
  },
  {
   "cell_type": "code",
   "execution_count": 3,
   "metadata": {},
   "outputs": [],
   "source": [
    "quad = Quad() ### instantiate a quadcopter\n",
    "\n",
    "### the timing parameters for the quad are used\n",
    "### to construct the koopman operator and the adjoint dif-eq \n",
    "koopman_operator = StableKoopmanOperator(quad.time_step)\n",
    "adjoint = Adjoint(quad.time_step)\n"
   ]
  },
  {
   "cell_type": "code",
   "execution_count": 4,
   "metadata": {},
   "outputs": [
    {
     "data": {
      "text/plain": [
       "array([4.75309096, 4.75309096, 4.55730027, 4.55730027, 4.03203562,\n",
       "       4.03203562, 3.85201156, 3.85201156, 3.70980676, 3.70980676,\n",
       "       2.9904613 , 2.73359905, 2.73359905, 2.11312238, 2.11312238,\n",
       "       1.81046212, 1.81046212, 0.94964777, 0.65360576, 2.72725555,\n",
       "       2.72725555, 2.9591927 ])"
      ]
     },
     "execution_count": 4,
     "metadata": {},
     "output_type": "execute_result"
    }
   ],
   "source": [
    "np.abs(np.linalg.eig(koopman_operator.K)[0])"
   ]
  },
  {
   "cell_type": "code",
   "execution_count": 5,
   "metadata": {},
   "outputs": [],
   "source": [
    "_R = euler2mat(np.random.uniform(-1.,1., size=(3,)))\n",
    "_p = np.array([0., 0., 0.])\n",
    "_g = RpToTrans(_R, _p).ravel()\n",
    "_twist = np.random.uniform(-1., 1., size=(6,)) #* 2.0\n",
    "state = np.r_[_g, _twist]"
   ]
  },
  {
   "cell_type": "code",
   "execution_count": 11,
   "metadata": {},
   "outputs": [
    {
     "name": "stdout",
     "output_type": "stream",
     "text": [
      "13.381697184637583\n",
      "13.438468771340219\n",
      "13.50869844689601\n",
      "13.413891255170826\n",
      "13.554954736193709\n",
      "13.445266432591895\n",
      "13.576066260399028\n",
      "13.502365040796008\n",
      "13.560847490942662\n",
      "13.56907845459143\n"
     ]
    }
   ],
   "source": [
    "for t in range(10):\n",
    "    m_state = get_measurement(state)\n",
    "    ustar = np.random.normal(0., 0.2, size=(4,))\n",
    "    next_state = quad.step(state, ustar)\n",
    "    koopman_operator.compute_operator_from_data(m_state, ustar, \n",
    "                                               get_measurement(next_state))\n",
    "    state = next_state"
   ]
  },
  {
   "cell_type": "code",
   "execution_count": 29,
   "metadata": {},
   "outputs": [
    {
     "data": {
      "text/plain": [
       "array([0.71607101, 0.69151388, 0.69151388, 0.7592198 , 0.7592198 ,\n",
       "       0.83515118, 0.83515118, 0.55633573, 0.55633573, 0.62626633,\n",
       "       0.62626633, 0.33627431, 0.33627431, 0.47808718, 0.47808718,\n",
       "       0.54841893, 0.54841893, 0.40184543, 0.40184543, 0.62491019,\n",
       "       0.50788494, 0.38131563])"
      ]
     },
     "execution_count": 29,
     "metadata": {},
     "output_type": "execute_result"
    }
   ],
   "source": [
    "np.abs(np.linalg.eig(koopman_operator.K)[0])"
   ]
  },
  {
   "cell_type": "code",
   "execution_count": 25,
   "metadata": {},
   "outputs": [
    {
     "data": {
      "text/plain": [
       "array([-198.86728158+562.50864538j, -198.86728158-562.50864538j,\n",
       "        -48.47830689+516.2126206j ,  -48.47830689-516.2126206j ,\n",
       "       -344.6558852 +359.11143808j, -344.6558852 -359.11143808j,\n",
       "         37.88240145+375.69320547j,   37.88240145-375.69320547j,\n",
       "        -69.45688375+287.56937246j,  -69.45688375-287.56937246j,\n",
       "       -126.35822926+222.87275818j, -126.35822926-222.87275818j,\n",
       "         99.7211587   +0.j        , -274.80624452  +0.j        ,\n",
       "       -218.39796443  +0.j        , -116.56067536  +0.j        ,\n",
       "        -70.35636184  +0.j        ,  -78.69807891  +0.j        ])"
      ]
     },
     "execution_count": 25,
     "metadata": {},
     "output_type": "execute_result"
    }
   ],
   "source": [
    "np.linalg.eig(koopman_operator.Kx)[0]"
   ]
  },
  {
   "cell_type": "code",
   "execution_count": null,
   "metadata": {},
   "outputs": [],
   "source": []
  }
 ],
 "metadata": {
  "kernelspec": {
   "display_name": "Python 3",
   "language": "python",
   "name": "python3"
  },
  "language_info": {
   "codemirror_mode": {
    "name": "ipython",
    "version": 3
   },
   "file_extension": ".py",
   "mimetype": "text/x-python",
   "name": "python",
   "nbconvert_exporter": "python",
   "pygments_lexer": "ipython3",
   "version": "3.6.9"
  }
 },
 "nbformat": 4,
 "nbformat_minor": 4
}
