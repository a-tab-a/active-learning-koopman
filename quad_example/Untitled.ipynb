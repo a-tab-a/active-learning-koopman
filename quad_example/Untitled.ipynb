{
 "cells": [
  {
   "cell_type": "code",
   "execution_count": 3,
   "metadata": {
    "Collapsed": "false"
   },
   "outputs": [],
   "source": [
    "import numpy as np\n",
    "import matplotlib.pyplot as plt\n",
    "import pickle as pkl\n",
    "\n",
    "# import seaborn as sns\n",
    "# plt.style.use('seaborn-darkgrid')\n",
    "\n",
    "import glob\n",
    "from matplotlib import rcParams, rc\n",
    "\n",
    "# rcParams['font.family'] = 'sans-serif'\n",
    "# rc('font',**{'family':'serif','serif':['Times']})\n"
   ]
  },
  {
   "cell_type": "code",
   "execution_count": 4,
   "metadata": {
    "Collapsed": "false"
   },
   "outputs": [],
   "source": [
    "data = {\n",
    "    'actively_learned_koopman' : {20 : [], 30 : [], 40 : []},\n",
    "    'stable_koopman' : {20 : [], 30 : [], 40 : []}\n",
    "}\n",
    "\n",
    "stable_koopman = []\n",
    "unstable_koopman = []\n",
    "\n",
    "for fpath in glob.glob('data/*.pkl'):\n",
    "    _data = pkl.load(open(fpath, 'rb'))\n",
    "    data[_data['kind']][_data['T']].append(_data['err'])\n",
    "    stable_koopman.append()"
   ]
  },
  {
   "cell_type": "code",
   "execution_count": 5,
   "metadata": {
    "Collapsed": "false"
   },
   "outputs": [
    {
     "ename": "NameError",
     "evalue": "name 'x' is not defined",
     "output_type": "error",
     "traceback": [
      "\u001b[0;31m---------------------------------------------------------------------------\u001b[0m",
      "\u001b[0;31mNameError\u001b[0m                                 Traceback (most recent call last)",
      "\u001b[0;32m<ipython-input-5-46fe0c096f8c>\u001b[0m in \u001b[0;36m<module>\u001b[0;34m\u001b[0m\n\u001b[1;32m      5\u001b[0m     \u001b[0max\u001b[0m\u001b[0;34m[\u001b[0m\u001b[0mi\u001b[0m\u001b[0;34m]\u001b[0m\u001b[0;34m.\u001b[0m\u001b[0mplot\u001b[0m\u001b[0;34m(\u001b[0m\u001b[0mmean\u001b[0m\u001b[0;34m,\u001b[0m \u001b[0mlabel\u001b[0m\u001b[0;34m=\u001b[0m\u001b[0;34m'actively \\n learned koopman'\u001b[0m\u001b[0;34m)\u001b[0m\u001b[0;34m\u001b[0m\u001b[0;34m\u001b[0m\u001b[0m\n\u001b[1;32m      6\u001b[0m     ax[i].fill_between(\n\u001b[0;32m----> 7\u001b[0;31m         \u001b[0mx\u001b[0m\u001b[0;34m,\u001b[0m\u001b[0;34m\u001b[0m\u001b[0;34m\u001b[0m\u001b[0m\n\u001b[0m\u001b[1;32m      8\u001b[0m         \u001b[0mnp\u001b[0m\u001b[0;34m.\u001b[0m\u001b[0mmin\u001b[0m\u001b[0;34m(\u001b[0m\u001b[0mdata\u001b[0m\u001b[0;34m[\u001b[0m\u001b[0;34m'actively_learned_koopman'\u001b[0m\u001b[0;34m]\u001b[0m\u001b[0;34m[\u001b[0m\u001b[0mT\u001b[0m\u001b[0;34m]\u001b[0m\u001b[0;34m,\u001b[0m \u001b[0maxis\u001b[0m\u001b[0;34m=\u001b[0m\u001b[0;36m0\u001b[0m\u001b[0;34m)\u001b[0m\u001b[0;34m,\u001b[0m\u001b[0;34m\u001b[0m\u001b[0;34m\u001b[0m\u001b[0m\n\u001b[1;32m      9\u001b[0m         \u001b[0mnp\u001b[0m\u001b[0;34m.\u001b[0m\u001b[0mmax\u001b[0m\u001b[0;34m(\u001b[0m\u001b[0mdata\u001b[0m\u001b[0;34m[\u001b[0m\u001b[0;34m'actively_learned_koopman'\u001b[0m\u001b[0;34m]\u001b[0m\u001b[0;34m[\u001b[0m\u001b[0mT\u001b[0m\u001b[0;34m]\u001b[0m\u001b[0;34m,\u001b[0m \u001b[0maxis\u001b[0m\u001b[0;34m=\u001b[0m\u001b[0;36m0\u001b[0m\u001b[0;34m)\u001b[0m\u001b[0;34m,\u001b[0m \u001b[0malpha\u001b[0m\u001b[0;34m=\u001b[0m\u001b[0;36m0.3\u001b[0m\u001b[0;34m\u001b[0m\u001b[0;34m\u001b[0m\u001b[0m\n",
      "\u001b[0;31mNameError\u001b[0m: name 'x' is not defined"
     ]
    },
    {
     "data": {
      "image/png": "[encoded data removed]",
      "text/plain": [
       "<Figure size 432x144 with 2 Axes>"
      ]
     },
     "metadata": {
      "needs_background": "light"
     },
     "output_type": "display_data"
    }
   ],
   "source": [
    "fig, ax = plt.subplots(1, 2, figsize=(6,2))\n",
    "\n",
    "for i, T in enumerate([30,40]):\n",
    "    mean = np.mean(data['actively_learned_koopman'][T], axis=0)\n",
    "    ax[i].plot(mean, label='actively \\n learned koopman')\n",
    "    ax[i].fill_between(\n",
    "        x, \n",
    "        np.min(data['actively_learned_koopman'][T], axis=0),\n",
    "        np.max(data['actively_learned_koopman'][T], axis=0), alpha=0.3\n",
    "    )\n",
    "    ax[i].grid(False)\n",
    "    \n",
    "    mean = np.mean(data['stable_koopman'][T], axis=0)\n",
    "    ax[i].plot(mean, label='stable koopman')\n",
    "    x = [i for i in range(2000)]\n",
    "    ax[i].fill_between(\n",
    "        x, \n",
    "        np.min(data['stable_koopman'][T], axis=0),\n",
    "        np.max(data['stable_koopman'][T], axis=0), alpha=0.3\n",
    "    )\n",
    "\n",
    "#     ax[i].set_ylim(0.2, 20)\n",
    "    ax[i].set_title('Horizon ' + str(T))\n",
    "ax[0].legend()\n",
    "\n",
    "plt.savefig('updated_fig.pdf')\n",
    "plt.show()"
   ]
  },
  {
   "cell_type": "code",
   "execution_count": null,
   "metadata": {},
   "outputs": [],
   "source": []
  }
 ],
 "metadata": {
  "kernelspec": {
   "display_name": "Python 3",
   "language": "python",
   "name": "python3"
  },
  "language_info": {
   "codemirror_mode": {
    "name": "ipython",
    "version": 3
   },
   "file_extension": ".py",
   "mimetype": "text/x-python",
   "name": "python",
   "nbconvert_exporter": "python",
   "pygments_lexer": "ipython3",
   "version": "3.8.5"
  }
 },
 "nbformat": 4,
 "nbformat_minor": 4
}
