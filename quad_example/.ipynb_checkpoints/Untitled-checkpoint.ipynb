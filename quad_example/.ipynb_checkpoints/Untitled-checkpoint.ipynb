{
 "cells": [
  {
   "cell_type": "code",
   "execution_count": 56,
   "metadata": {
    "Collapsed": "false"
   },
   "outputs": [],
   "source": [
    "import numpy as np\n",
    "import matplotlib.pyplot as plt\n",
    "import pickle as pkl\n",
    "\n",
    "import seaborn as sns\n",
    "plt.style.use('seaborn-darkgrid')\n",
    "\n",
    "import glob\n",
    "from matplotlib import rcParams, rc\n",
    "\n",
    "# rcParams['font.family'] = 'sans-serif'\n",
    "# rc('font',**{'family':'serif','serif':['Times']})\n"
   ]
  },
  {
   "cell_type": "code",
   "execution_count": 57,
   "metadata": {
    "Collapsed": "false"
   },
   "outputs": [],
   "source": [
    "data = {\n",
    "    'actively_learned_koopman' : {20 : [], 30 : [], 40 : []},\n",
    "    'stable_koopman' : {20 : [], 30 : [], 40 : []}\n",
    "}\n",
    "for fpath in glob.glob('data/*.pkl'):\n",
    "    _data = pkl.load(open(fpath, 'rb'))\n",
    "    data[_data['kind']][_data['T']].append(_data['err'])"
   ]
  },
  {
   "cell_type": "code",
   "execution_count": 67,
   "metadata": {
    "Collapsed": "false"
   },
   "outputs": [
    {
     "data": {
      "image/png": "[encoded data removed]",
      "text/plain": [
       "<Figure size 432x144 with 2 Axes>"
      ]
     },
     "metadata": {},
     "output_type": "display_data"
    }
   ],
   "source": [
    "fig, ax = plt.subplots(1, 2, figsize=(6,2))\n",
    "\n",
    "for i, T in enumerate([30,40]):\n",
    "    mean = np.mean(data['actively_learned_koopman'][T], axis=0)\n",
    "    ax[i].plot(mean, label='actively \\n learned koopman')\n",
    "    ax[i].fill_between(\n",
    "        x, \n",
    "        np.min(data['actively_learned_koopman'][T], axis=0),\n",
    "        np.max(data['actively_learned_koopman'][T], axis=0), alpha=0.3\n",
    "    )\n",
    "    ax[i].grid(False)\n",
    "    \n",
    "    mean = np.mean(data['stable_koopman'][T], axis=0)\n",
    "    ax[i].plot(mean, label='stable koopman')\n",
    "    x = [i for i in range(2000)]\n",
    "    ax[i].fill_between(\n",
    "        x, \n",
    "        np.min(data['stable_koopman'][T], axis=0),\n",
    "        np.max(data['stable_koopman'][T], axis=0), alpha=0.3\n",
    "    )\n",
    "\n",
    "#     ax[i].set_ylim(0.2, 20)\n",
    "    ax[i].set_title('Horizon ' + str(T))\n",
    "ax[0].legend()\n",
    "\n",
    "plt.savefig('updated_fig.pdf')\n",
    "plt.show()"
   ]
  },
  {
   "cell_type": "code",
   "execution_count": 11,
   "metadata": {},
   "outputs": [],
   "source": [
    "import matplotlib.pyplot as plt"
   ]
  },
  {
   "cell_type": "code",
   "execution_count": 1,
   "metadata": {},
   "outputs": [],
   "source": [
    "import autograd.numpy as np\n",
    "from autograd import grad, jacobian"
   ]
  },
  {
   "cell_type": "code",
   "execution_count": 2,
   "metadata": {},
   "outputs": [],
   "source": [
    "x,y = np.meshgrid(np.linspace(-1,1), np.linspace(-1,1))"
   ]
  },
  {
   "cell_type": "code",
   "execution_count": 3,
   "metadata": {},
   "outputs": [],
   "source": [
    "def t_mat(p, theta):\n",
    "    return np.array([\n",
    "        [np.cos(theta), -np.sin(theta), p[0]],\n",
    "        [np.sin(theta), np.cos(theta), p[1]],\n",
    "        [0., 0., 1.]\n",
    "    ])"
   ]
  },
  {
   "cell_type": "code",
   "execution_count": 4,
   "metadata": {},
   "outputs": [],
   "source": [
    "trans_matrix = t_mat(np.array([0.5,0.5]), 0.5)"
   ]
  },
  {
   "cell_type": "code",
   "execution_count": 205,
   "metadata": {},
   "outputs": [
    {
     "data": {
      "text/plain": [
       "array([[ 0.87758256, -0.47942554,  0.5       ],\n",
       "       [ 0.47942554,  0.87758256,  0.5       ],\n",
       "       [ 0.        ,  0.        ,  1.        ]])"
      ]
     },
     "execution_count": 205,
     "metadata": {},
     "output_type": "execute_result"
    }
   ],
   "source": [
    "trans_matrix"
   ]
  },
  {
   "cell_type": "code",
   "execution_count": 208,
   "metadata": {},
   "outputs": [
    {
     "data": {
      "text/plain": [
       "array([0.58775826, 0.54794255, 1.        ])"
      ]
     },
     "execution_count": 208,
     "metadata": {},
     "output_type": "execute_result"
    }
   ],
   "source": [
    "np.dot(trans_matrix, np.array([0.1,0.,1.]))"
   ]
  },
  {
   "cell_type": "code",
   "execution_count": 206,
   "metadata": {},
   "outputs": [
    {
     "data": {
      "text/plain": [
       "array([[ 0.87758256,  0.47942554, -0.67850405],\n",
       "       [-0.47942554,  0.87758256, -0.19907851],\n",
       "       [ 0.        ,  0.        ,  1.        ]])"
      ]
     },
     "execution_count": 206,
     "metadata": {},
     "output_type": "execute_result"
    }
   ],
   "source": [
    "np.linalg.inv(trans_matrix)"
   ]
  },
  {
   "cell_type": "code",
   "execution_count": 5,
   "metadata": {},
   "outputs": [],
   "source": [
    "s = np.c_[x.ravel(), y.ravel()]"
   ]
  },
  {
   "cell_type": "code",
   "execution_count": 6,
   "metadata": {},
   "outputs": [],
   "source": [
    "sh=np.concatenate([s, np.ones((s.shape[0], 1))], axis=1)"
   ]
  },
  {
   "cell_type": "code",
   "execution_count": 7,
   "metadata": {},
   "outputs": [],
   "source": [
    "st = np.dot(np.linalg.inv(trans_matrix), sh.T).T"
   ]
  },
  {
   "cell_type": "code",
   "execution_count": 43,
   "metadata": {},
   "outputs": [],
   "source": [
    "set_val = np.sum(np.tanh(np.abs(st[:,:2])-np.array([0.5,0.2])),axis=1)"
   ]
  },
  {
   "cell_type": "code",
   "execution_count": 101,
   "metadata": {},
   "outputs": [],
   "source": [
    "set_val = np.float32((np.abs(st[:,:2])<np.array([0.5,0.2])).all(axis=1))"
   ]
  },
  {
   "cell_type": "markdown",
   "metadata": {},
   "source": [
    "so what we have is a function that tells us the cost f(x)"
   ]
  },
  {
   "cell_type": "code",
   "execution_count": 240,
   "metadata": {},
   "outputs": [
    {
     "data": {
      "text/plain": [
       "<matplotlib.colorbar.Colorbar at 0x7f3466e99828>"
      ]
     },
     "execution_count": 240,
     "metadata": {},
     "output_type": "execute_result"
    },
    {
     "data": {
      "image/png": "[encoded data removed]",
      "text/plain": [
       "<Figure size 432x288 with 2 Axes>"
      ]
     },
     "metadata": {
      "needs_background": "light"
     },
     "output_type": "display_data"
    }
   ],
   "source": [
    "plt.contourf(x,y,set_val.reshape(x.shape))\n",
    "plt.colorbar()"
   ]
  },
  {
   "cell_type": "code",
   "execution_count": 245,
   "metadata": {},
   "outputs": [],
   "source": [
    "dim = np.array([0.5,0.2])\n",
    "def f(_s):\n",
    "#     return np.prod(np.minimum(0., np.abs(_s)-np.array([0.5,0.2])+0.1),axis=1)\n",
    "    return np.prod(0.5*(np.tanh(-20 * (np.abs(_s)-dim))+1))"
   ]
  },
  {
   "cell_type": "code",
   "execution_count": 246,
   "metadata": {},
   "outputs": [],
   "source": [
    "df = grad(f)"
   ]
  },
  {
   "cell_type": "code",
   "execution_count": 247,
   "metadata": {},
   "outputs": [
    {
     "data": {
      "text/plain": [
       "array([-5.13094467e-04,  1.49730013e+00])"
      ]
     },
     "execution_count": 247,
     "metadata": {},
     "output_type": "execute_result"
    }
   ],
   "source": [
    "df(\n",
    "    np.dot(np.linalg.inv(trans_matrix),np.array([0.75, 0.5, 1.]))[:2]\n",
    ")"
   ]
  },
  {
   "cell_type": "code",
   "execution_count": null,
   "metadata": {},
   "outputs": [],
   "source": [
    "def _df(_s):\n",
    "    return 0.5 * (np.tanh(-20.*np.abs(_s[0])-dim[0])+1) * (1+np.tanh(-20*)**2)"
   ]
  },
  {
   "cell_type": "code",
   "execution_count": 244,
   "metadata": {},
   "outputs": [
    {
     "data": {
      "text/plain": [
       "array([ 0.21939564, -0.11985638])"
      ]
     },
     "execution_count": 244,
     "metadata": {},
     "output_type": "execute_result"
    }
   ],
   "source": [
    "np.dot(np.linalg.inv(trans_matrix),np.array([0.75, 0.5, 1.]))[:2]"
   ]
  },
  {
   "cell_type": "code",
   "execution_count": 238,
   "metadata": {},
   "outputs": [],
   "source": [
    "set_val = f(st[:,:2])"
   ]
  },
  {
   "cell_type": "code",
   "execution_count": 239,
   "metadata": {},
   "outputs": [
    {
     "data": {
      "text/plain": [
       "array([0.        , 0.        , 0.        , ..., 0.00244607, 0.00106502,\n",
       "       0.0004033 ])"
      ]
     },
     "execution_count": 239,
     "metadata": {},
     "output_type": "execute_result"
    }
   ],
   "source": [
    "set_val"
   ]
  },
  {
   "cell_type": "code",
   "execution_count": 167,
   "metadata": {},
   "outputs": [
    {
     "data": {
      "text/plain": [
       "[<matplotlib.lines.Line2D at 0x7f34675e2860>]"
      ]
     },
     "execution_count": 167,
     "metadata": {},
     "output_type": "execute_result"
    },
    {
     "data": {
      "image/png": "[encoded data removed]",
      "text/plain": [
       "<Figure size 432x288 with 1 Axes>"
      ]
     },
     "metadata": {
      "needs_background": "light"
     },
     "output_type": "display_data"
    }
   ],
   "source": [
    "plt.plot(np.linspace(-2,2),0.5*(np.tanh(60.*np.linspace(-2,2)) + 1))"
   ]
  },
  {
   "cell_type": "code",
   "execution_count": null,
   "metadata": {},
   "outputs": [],
   "source": []
  }
 ],
 "metadata": {
  "kernelspec": {
   "display_name": "Python 3",
   "language": "python",
   "name": "python3"
  },
  "language_info": {
   "codemirror_mode": {
    "name": "ipython",
    "version": 3
   },
   "file_extension": ".py",
   "mimetype": "text/x-python",
   "name": "python",
   "nbconvert_exporter": "python",
   "pygments_lexer": "ipython3",
   "version": "3.6.9"
  }
 },
 "nbformat": 4,
 "nbformat_minor": 4
}
