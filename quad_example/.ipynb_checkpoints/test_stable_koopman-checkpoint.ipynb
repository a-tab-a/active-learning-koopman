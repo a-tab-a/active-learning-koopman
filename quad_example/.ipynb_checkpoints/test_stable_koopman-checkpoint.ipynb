{
 "cells": [
  {
   "cell_type": "code",
   "execution_count": 1,
   "metadata": {},
   "outputs": [],
   "source": [
    "import numpy as np\n",
    "from stable_koopman_operator import StableKoopmanOperator\n",
    "from quad import Quad\n",
    "from task import Task, Adjoint\n",
    "\n",
    "import matplotlib.pyplot as plt\n",
    "import scipy.linalg\n",
    "from group_theory import VecTose3, TransToRp, RpToTrans\n",
    "from lqr import FiniteHorizonLQR\n",
    "from quatmath import euler2mat "
   ]
  },
  {
   "cell_type": "markdown",
   "metadata": {},
   "source": [
    "Helper Functions\n",
    "================"
   ]
  },
  {
   "cell_type": "code",
   "execution_count": 2,
   "metadata": {},
   "outputs": [],
   "source": [
    "def get_measurement(x):\n",
    "    g = x[0:16].reshape((4,4)) ## SE(3) matrix\n",
    "    R,p = TransToRp(g)\n",
    "    twist = x[16:]\n",
    "    grot = np.dot(R, [0., 0., -9.81]) ## gravity vec rel to body frame\n",
    "    return np.concatenate((grot, twist)) \n",
    "\n",
    "def get_position(x):\n",
    "    g = x[0:16].reshape((4,4))\n",
    "    R,p = TransToRp(g)\n",
    "    return p\n"
   ]
  },
  {
   "cell_type": "code",
   "execution_count": 3,
   "metadata": {},
   "outputs": [],
   "source": [
    "quad = Quad() ### instantiate a quadcopter\n",
    "\n",
    "### the timing parameters for the quad are used\n",
    "### to construct the koopman operator and the adjoint dif-eq \n",
    "koopman_operator = StableKoopmanOperator(quad.time_step)\n",
    "adjoint = Adjoint(quad.time_step)\n"
   ]
  },
  {
   "cell_type": "code",
   "execution_count": 4,
   "metadata": {},
   "outputs": [
    {
     "data": {
      "text/plain": [
       "array([4.94651988, 4.94651988, 4.68609295, 4.68609295, 4.45306876,\n",
       "       4.45306876, 4.0043973 , 4.0043973 , 3.78045868, 3.58229222,\n",
       "       3.58229222, 2.7992979 , 2.7992979 , 3.16445248, 2.39526465,\n",
       "       2.39526465, 1.23641207, 1.23641207, 2.1536979 , 1.1616475 ,\n",
       "       1.1616475 , 0.39910965])"
      ]
     },
     "execution_count": 4,
     "metadata": {},
     "output_type": "execute_result"
    }
   ],
   "source": [
    "np.abs(np.linalg.eig(koopman_operator.K)[0])"
   ]
  },
  {
   "cell_type": "code",
   "execution_count": 5,
   "metadata": {},
   "outputs": [],
   "source": [
    "_R = euler2mat(np.random.uniform(-1.,1., size=(3,)))\n",
    "_p = np.array([0., 0., 0.])\n",
    "_g = RpToTrans(_R, _p).ravel()\n",
    "_twist = np.random.uniform(-1., 1., size=(6,)) #* 2.0\n",
    "state = np.r_[_g, _twist]"
   ]
  },
  {
   "cell_type": "code",
   "execution_count": 13,
   "metadata": {},
   "outputs": [
    {
     "name": "stdout",
     "output_type": "stream",
     "text": [
      "15.017957880258217\n",
      "15.345285978724098\n",
      "15.044264091658226\n",
      "15.434007224932532\n",
      "15.310367467079903\n",
      "15.509678663941038\n",
      "15.76683226179774\n",
      "15.572413332714223\n",
      "15.369230758707955\n",
      "16.083815936135593\n"
     ]
    }
   ],
   "source": [
    "for t in range(10):\n",
    "    m_state = get_measurement(state)\n",
    "    ustar = np.random.normal(0., 0.2, size=(4,))\n",
    "    next_state = quad.step(state, ustar)\n",
    "    koopman_operator.compute_operator_from_data(m_state, ustar, \n",
    "                                               get_measurement(next_state))\n",
    "    state = next_state"
   ]
  },
  {
   "cell_type": "code",
   "execution_count": 11,
   "metadata": {},
   "outputs": [
    {
     "data": {
      "text/plain": [
       "array([0.71607101, 0.69151388, 0.69151388, 0.75921982, 0.75921982,\n",
       "       0.83515118, 0.83515118, 0.55633573, 0.55633573, 0.62626633,\n",
       "       0.62626633, 0.33627431, 0.33627431, 0.47808718, 0.47808718,\n",
       "       0.54841894, 0.54841894, 0.40184545, 0.40184545, 0.62491018,\n",
       "       0.50788491, 0.3813156 ])"
      ]
     },
     "execution_count": 11,
     "metadata": {},
     "output_type": "execute_result"
    }
   ],
   "source": [
    "np.abs(np.linalg.eig(koopman_operator.K)[0])"
   ]
  },
  {
   "cell_type": "code",
   "execution_count": 12,
   "metadata": {},
   "outputs": [
    {
     "data": {
      "text/plain": [
       "array([-198.86730489+562.508649j  , -198.86730489-562.508649j  ,\n",
       "        -48.47828975+516.21264066j,  -48.47828975-516.21264066j,\n",
       "       -344.65601057+359.11152557j, -344.65601057-359.11152557j,\n",
       "         37.882391  +375.69319276j,   37.882391  -375.69319276j,\n",
       "        -69.45688122+287.56936871j,  -69.45688122-287.56936871j,\n",
       "       -126.35822424+222.87276111j, -126.35822424-222.87276111j,\n",
       "         99.72122576  +0.j        , -274.80622301  +0.j        ,\n",
       "       -218.39797795  +0.j        , -116.56068759  +0.j        ,\n",
       "        -70.35630566  +0.j        ,  -78.698148    +0.j        ])"
      ]
     },
     "execution_count": 12,
     "metadata": {},
     "output_type": "execute_result"
    }
   ],
   "source": [
    "np.linalg.eig(koopman_operator.Kx)[0]"
   ]
  },
  {
   "cell_type": "code",
   "execution_count": null,
   "metadata": {},
   "outputs": [],
   "source": []
  }
 ],
 "metadata": {
  "kernelspec": {
   "display_name": "Python 3",
   "language": "python",
   "name": "python3"
  },
  "language_info": {
   "codemirror_mode": {
    "name": "ipython",
    "version": 3
   },
   "file_extension": ".py",
   "mimetype": "text/x-python",
   "name": "python",
   "nbconvert_exporter": "python",
   "pygments_lexer": "ipython3",
   "version": "3.6.9"
  }
 },
 "nbformat": 4,
 "nbformat_minor": 4
}
